{
 "cells": [
  {
   "cell_type": "code",
   "execution_count": 4,
   "metadata": {},
   "outputs": [],
   "source": [
    "import numpy as np\n",
    "import matplotlib.pyplot as plt\n",
    "import pandas as pd\n"
   ]
  },
  {
   "cell_type": "code",
   "execution_count": 5,
   "metadata": {},
   "outputs": [],
   "source": [
    "# load in dataframe\n",
    "\n",
    "df = pd.read_csv('dft_binding_energies.csv')\n",
    "chdf = pd.read_csv('ch_binding_energy')"
   ]
  },
  {
   "cell_type": "code",
   "execution_count": 9,
   "metadata": {},
   "outputs": [
    {
     "data": {
      "text/html": [
       "<div>\n",
       "<style scoped>\n",
       "    .dataframe tbody tr th:only-of-type {\n",
       "        vertical-align: middle;\n",
       "    }\n",
       "\n",
       "    .dataframe tbody tr th {\n",
       "        vertical-align: top;\n",
       "    }\n",
       "\n",
       "    .dataframe thead th {\n",
       "        text-align: right;\n",
       "    }\n",
       "</style>\n",
       "<table border=\"1\" class=\"dataframe\">\n",
       "  <thead>\n",
       "    <tr style=\"text-align: right;\">\n",
       "      <th></th>\n",
       "      <th>chemicalComposition</th>\n",
       "      <th>h2energy</th>\n",
       "      <th>ch4energy</th>\n",
       "      <th>h2senergy</th>\n",
       "      <th>n2energy</th>\n",
       "      <th>h2oenergy</th>\n",
       "      <th>hbind</th>\n",
       "      <th>nbind</th>\n",
       "      <th>obind</th>\n",
       "      <th>sbind</th>\n",
       "      <th>cbind</th>\n",
       "    </tr>\n",
       "  </thead>\n",
       "  <tbody>\n",
       "    <tr>\n",
       "      <th>0</th>\n",
       "      <td>Ag12</td>\n",
       "      <td>0.338155</td>\n",
       "      <td>6.961600</td>\n",
       "      <td>0.383140</td>\n",
       "      <td>3.112394</td>\n",
       "      <td>2.638110</td>\n",
       "      <td>0.338155</td>\n",
       "      <td>3.112394</td>\n",
       "      <td>1.961800</td>\n",
       "      <td>-0.293170</td>\n",
       "      <td>5.608979</td>\n",
       "    </tr>\n",
       "    <tr>\n",
       "      <th>1</th>\n",
       "      <td>Ag3Al9</td>\n",
       "      <td>0.336242</td>\n",
       "      <td>3.832912</td>\n",
       "      <td>-0.886677</td>\n",
       "      <td>-1.208687</td>\n",
       "      <td>-1.247084</td>\n",
       "      <td>0.336242</td>\n",
       "      <td>-1.208687</td>\n",
       "      <td>-1.919568</td>\n",
       "      <td>-1.559160</td>\n",
       "      <td>2.487945</td>\n",
       "    </tr>\n",
       "    <tr>\n",
       "      <th>2</th>\n",
       "      <td>Ag3Au9</td>\n",
       "      <td>0.321487</td>\n",
       "      <td>5.951248</td>\n",
       "      <td>0.397908</td>\n",
       "      <td>2.662811</td>\n",
       "      <td>2.930120</td>\n",
       "      <td>0.321487</td>\n",
       "      <td>2.662811</td>\n",
       "      <td>2.287146</td>\n",
       "      <td>-0.245066</td>\n",
       "      <td>4.665300</td>\n",
       "    </tr>\n",
       "    <tr>\n",
       "      <th>3</th>\n",
       "      <td>Ag3Cd9</td>\n",
       "      <td>0.776155</td>\n",
       "      <td>8.681553</td>\n",
       "      <td>1.140841</td>\n",
       "      <td>2.404604</td>\n",
       "      <td>2.545905</td>\n",
       "      <td>0.776155</td>\n",
       "      <td>2.404604</td>\n",
       "      <td>0.993595</td>\n",
       "      <td>-0.411468</td>\n",
       "      <td>5.576933</td>\n",
       "    </tr>\n",
       "    <tr>\n",
       "      <th>4</th>\n",
       "      <td>Ag3Co9</td>\n",
       "      <td>-0.365845</td>\n",
       "      <td>0.476879</td>\n",
       "      <td>-2.801785</td>\n",
       "      <td>-0.411461</td>\n",
       "      <td>-1.234676</td>\n",
       "      <td>-0.365845</td>\n",
       "      <td>-0.411461</td>\n",
       "      <td>-0.502986</td>\n",
       "      <td>-2.070095</td>\n",
       "      <td>1.940260</td>\n",
       "    </tr>\n",
       "    <tr>\n",
       "      <th>...</th>\n",
       "      <td>...</td>\n",
       "      <td>...</td>\n",
       "      <td>...</td>\n",
       "      <td>...</td>\n",
       "      <td>...</td>\n",
       "      <td>...</td>\n",
       "      <td>...</td>\n",
       "      <td>...</td>\n",
       "      <td>...</td>\n",
       "      <td>...</td>\n",
       "      <td>...</td>\n",
       "    </tr>\n",
       "    <tr>\n",
       "      <th>1484</th>\n",
       "      <td>Zn12</td>\n",
       "      <td>0.552737</td>\n",
       "      <td>6.700048</td>\n",
       "      <td>0.204914</td>\n",
       "      <td>1.127733</td>\n",
       "      <td>1.184199</td>\n",
       "      <td>0.552737</td>\n",
       "      <td>1.127733</td>\n",
       "      <td>0.078725</td>\n",
       "      <td>-0.900561</td>\n",
       "      <td>4.489099</td>\n",
       "    </tr>\n",
       "    <tr>\n",
       "      <th>1485</th>\n",
       "      <td>Zn3Zr9</td>\n",
       "      <td>-1.047819</td>\n",
       "      <td>-2.851123</td>\n",
       "      <td>-5.341111</td>\n",
       "      <td>-2.726808</td>\n",
       "      <td>-5.543771</td>\n",
       "      <td>-1.047819</td>\n",
       "      <td>-2.726808</td>\n",
       "      <td>-3.448132</td>\n",
       "      <td>-3.245472</td>\n",
       "      <td>1.340155</td>\n",
       "    </tr>\n",
       "    <tr>\n",
       "      <th>1486</th>\n",
       "      <td>Zn6Zr6</td>\n",
       "      <td>-0.749997</td>\n",
       "      <td>-1.893216</td>\n",
       "      <td>-4.334818</td>\n",
       "      <td>-1.870297</td>\n",
       "      <td>-4.168913</td>\n",
       "      <td>-0.749997</td>\n",
       "      <td>-1.870297</td>\n",
       "      <td>-2.668918</td>\n",
       "      <td>-2.834823</td>\n",
       "      <td>1.106774</td>\n",
       "    </tr>\n",
       "    <tr>\n",
       "      <th>1487</th>\n",
       "      <td>Zn9Zr3</td>\n",
       "      <td>-0.370639</td>\n",
       "      <td>1.606872</td>\n",
       "      <td>-3.004912</td>\n",
       "      <td>-0.584043</td>\n",
       "      <td>-2.404360</td>\n",
       "      <td>-0.370639</td>\n",
       "      <td>-0.584043</td>\n",
       "      <td>-1.663083</td>\n",
       "      <td>-2.263635</td>\n",
       "      <td>3.089426</td>\n",
       "    </tr>\n",
       "    <tr>\n",
       "      <th>1488</th>\n",
       "      <td>Zr12</td>\n",
       "      <td>-0.992339</td>\n",
       "      <td>-2.707173</td>\n",
       "      <td>-5.278462</td>\n",
       "      <td>-2.718649</td>\n",
       "      <td>-5.410526</td>\n",
       "      <td>-0.992339</td>\n",
       "      <td>-2.718649</td>\n",
       "      <td>-3.425848</td>\n",
       "      <td>-3.293783</td>\n",
       "      <td>1.262184</td>\n",
       "    </tr>\n",
       "  </tbody>\n",
       "</table>\n",
       "<p>1489 rows × 11 columns</p>\n",
       "</div>"
      ],
      "text/plain": [
       "     chemicalComposition  h2energy  ch4energy  h2senergy  n2energy  h2oenergy  \\\n",
       "0                   Ag12  0.338155   6.961600   0.383140  3.112394   2.638110   \n",
       "1                 Ag3Al9  0.336242   3.832912  -0.886677 -1.208687  -1.247084   \n",
       "2                 Ag3Au9  0.321487   5.951248   0.397908  2.662811   2.930120   \n",
       "3                 Ag3Cd9  0.776155   8.681553   1.140841  2.404604   2.545905   \n",
       "4                 Ag3Co9 -0.365845   0.476879  -2.801785 -0.411461  -1.234676   \n",
       "...                  ...       ...        ...        ...       ...        ...   \n",
       "1484                Zn12  0.552737   6.700048   0.204914  1.127733   1.184199   \n",
       "1485              Zn3Zr9 -1.047819  -2.851123  -5.341111 -2.726808  -5.543771   \n",
       "1486              Zn6Zr6 -0.749997  -1.893216  -4.334818 -1.870297  -4.168913   \n",
       "1487              Zn9Zr3 -0.370639   1.606872  -3.004912 -0.584043  -2.404360   \n",
       "1488                Zr12 -0.992339  -2.707173  -5.278462 -2.718649  -5.410526   \n",
       "\n",
       "         hbind     nbind     obind     sbind     cbind  \n",
       "0     0.338155  3.112394  1.961800 -0.293170  5.608979  \n",
       "1     0.336242 -1.208687 -1.919568 -1.559160  2.487945  \n",
       "2     0.321487  2.662811  2.287146 -0.245066  4.665300  \n",
       "3     0.776155  2.404604  0.993595 -0.411468  5.576933  \n",
       "4    -0.365845 -0.411461 -0.502986 -2.070095  1.940260  \n",
       "...        ...       ...       ...       ...       ...  \n",
       "1484  0.552737  1.127733  0.078725 -0.900561  4.489099  \n",
       "1485 -1.047819 -2.726808 -3.448132 -3.245472  1.340155  \n",
       "1486 -0.749997 -1.870297 -2.668918 -2.834823  1.106774  \n",
       "1487 -0.370639 -0.584043 -1.663083 -2.263635  3.089426  \n",
       "1488 -0.992339 -2.718649 -3.425848 -3.293783  1.262184  \n",
       "\n",
       "[1489 rows x 11 columns]"
      ]
     },
     "execution_count": 9,
     "metadata": {},
     "output_type": "execute_result"
    }
   ],
   "source": [
    "df"
   ]
  },
  {
   "cell_type": "code",
   "execution_count": 51,
   "metadata": {},
   "outputs": [],
   "source": [
    "# perform simple regression on ch* binding energy based on the 5 elemental binding energies\n",
    "\n",
    "# save ch binding energies as np array, output\n",
    "y = chdf['ch'].values.reshape(-1,1)\n",
    "\n",
    "# save c binding energy as np array, input\n",
    "x = df['obind'].values.reshape(-1,1)\n"
   ]
  },
  {
   "cell_type": "code",
   "execution_count": 52,
   "metadata": {},
   "outputs": [
    {
     "data": {
      "text/plain": [
       "<matplotlib.collections.PathCollection at 0x22ab8450eb0>"
      ]
     },
     "execution_count": 52,
     "metadata": {},
     "output_type": "execute_result"
    },
    {
     "data": {
      "image/png": "[encoded data removed]",
      "text/plain": [
       "<Figure size 432x288 with 1 Axes>"
      ]
     },
     "metadata": {
      "needs_background": "light"
     },
     "output_type": "display_data"
    }
   ],
   "source": [
    "# simple regression c vs ch binding energy\n",
    "\n",
    "plt.scatter(x, y)"
   ]
  },
  {
   "cell_type": "code",
   "execution_count": 53,
   "metadata": {},
   "outputs": [
    {
     "data": {
      "text/plain": [
       "0.5392919189021159"
      ]
     },
     "execution_count": 53,
     "metadata": {},
     "output_type": "execute_result"
    }
   ],
   "source": [
    "from sklearn.linear_model import LinearRegression\n",
    "\n",
    "mdl = LinearRegression()\n",
    "mdl.fit(x, y)\n",
    "\n",
    "mdl.score(x, y)"
   ]
  },
  {
   "cell_type": "code",
   "execution_count": 27,
   "metadata": {},
   "outputs": [],
   "source": [
    "y_pred = mdl.predict(x)"
   ]
  },
  {
   "cell_type": "code",
   "execution_count": 29,
   "metadata": {},
   "outputs": [
    {
     "data": {
      "image/png": "[encoded data removed]",
      "text/plain": [
       "<Figure size 432x288 with 1 Axes>"
      ]
     },
     "metadata": {
      "needs_background": "light"
     },
     "output_type": "display_data"
    }
   ],
   "source": [
    "plt.scatter(x.flatten(), y.flatten())\n",
    "plt.scatter(x.flatten(), y_pred.flatten())\n",
    "plt.show()"
   ]
  }
 ],
 "metadata": {
  "interpreter": {
   "hash": "92f42d08bc3712c1e0fd1b833367d48b6175e3712244790e9a77de977c3614cb"
  },
  "kernelspec": {
   "display_name": "Python 3.9.5 ('base')",
   "language": "python",
   "name": "python3"
  },
  "language_info": {
   "codemirror_mode": {
    "name": "ipython",
    "version": 3
   },
   "file_extension": ".py",
   "mimetype": "text/x-python",
   "name": "python",
   "nbconvert_exporter": "python",
   "pygments_lexer": "ipython3",
   "version": "3.9.5"
  },
  "orig_nbformat": 4
 },
 "nbformat": 4,
 "nbformat_minor": 2
}

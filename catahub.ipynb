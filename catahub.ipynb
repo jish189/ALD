{
 "cells": [
  {
   "cell_type": "code",
   "execution_count": 20,
   "metadata": {},
   "outputs": [],
   "source": [
    "import requests\n",
    "\n",
    "# paper string identifier in catalysis-hub.org\n",
    "paperid = \"CamposEfficient2021\"\n",
    "\n",
    "\n",
    "params = {\n",
    "    'query': f'{{reactions(pubId:\"{paperid}\") {{\\n  edges {{\\n    node {{\\n      Equation\\n      chemicalComposition\\n      facet\\n      reactionEnergy\\n      sites\\n    }}\\n  }}\\n}}}}',\n",
    "}\n",
    "\n",
    "response = requests.get('http://api.catalysis-hub.org/graphql', params=params)"
   ]
  },
  {
   "cell_type": "code",
   "execution_count": 21,
   "metadata": {},
   "outputs": [],
   "source": [
    "\n",
    "jfile = response.json()"
   ]
  },
  {
   "cell_type": "code",
   "execution_count": 23,
   "metadata": {},
   "outputs": [],
   "source": [
    "import json\n",
    "import csv\n",
    "\n",
    "txt = response.text\n",
    "\n",
    "jfile = json.loads(txt)"
   ]
  },
  {
   "cell_type": "code",
   "execution_count": 24,
   "metadata": {},
   "outputs": [],
   "source": [
    "listdata = jfile['data']['reactions']['edges']\n"
   ]
  },
  {
   "cell_type": "code",
   "execution_count": 25,
   "metadata": {},
   "outputs": [],
   "source": [
    "csv_col = ['chemicalComposition', 'Equation', 'sites', 'reactionEnergy' ,'facet']\n",
    "\n",
    "\n",
    "\n",
    "csvfile = f\"{paperid}.csv\"\n",
    "\n",
    "with open(csvfile, 'w') as f:\n",
    "    writer = csv.DictWriter(f, fieldnames=csv_col)\n",
    "    writer.writeheader()\n",
    "\n",
    "    for data in listdata:\n",
    "        row = data['node']\n",
    "        writer.writerow(row)\n"
   ]
  }
 ],
 "metadata": {
  "interpreter": {
   "hash": "92f42d08bc3712c1e0fd1b833367d48b6175e3712244790e9a77de977c3614cb"
  },
  "kernelspec": {
   "display_name": "Python 3.9.5 ('base')",
   "language": "python",
   "name": "python3"
  },
  "language_info": {
   "codemirror_mode": {
    "name": "ipython",
    "version": 3
   },
   "file_extension": ".py",
   "mimetype": "text/x-python",
   "name": "python",
   "nbconvert_exporter": "python",
   "pygments_lexer": "ipython3",
   "version": "3.9.5"
  },
  "orig_nbformat": 4
 },
 "nbformat": 4,
 "nbformat_minor": 2
}
